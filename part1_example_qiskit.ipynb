{
 "cells": [
  {
   "cell_type": "code",
   "execution_count": 136,
   "metadata": {},
   "outputs": [],
   "source": [
    "import qiskit\n",
    "from qiskit import quantum_info\n",
    "from qiskit.execute_function import execute\n",
    "from qiskit import BasicAer\n",
    "import numpy as np\n",
    "import pickle\n",
    "import json\n",
    "import os\n",
    "from collections import Counter\n",
    "\n",
    "from sklearn.metrics import mean_squared_error\n",
    "from typing import Dict, List\n",
    "import matplotlib.pyplot as plt\n",
    "\n",
    "#define utility functions\n",
    "\n",
    "def simulate(circuit: qiskit.QuantumCircuit) -> dict:\n",
    "    \"\"\"Simulate the circuit, give the state vector as the result.\"\"\"\n",
    "    backend = BasicAer.get_backend('statevector_simulator')\n",
    "    job = execute(circuit, backend)\n",
    "    result = job.result()\n",
    "    state_vector = result.get_statevector()\n",
    "    \n",
    "    histogram = dict()\n",
    "    for i in range(len(state_vector)):\n",
    "        population = abs(state_vector[i]) ** 2\n",
    "        if population > 1e-9:\n",
    "            histogram[i] = population\n",
    "    \n",
    "    return histogram\n",
    "\n",
    "\n",
    "def histogram_to_category(histogram):\n",
    "    \"\"\"This function take a histogram representations of circuit execution results, and process into labels as described in \n",
    "    the problem description.\"\"\"\n",
    "    assert abs(sum(histogram.values())-1)<1e-8\n",
    "    positive=0\n",
    "    for key in histogram.keys():\n",
    "        digits = bin(int(key))[2:].zfill(20)\n",
    "        if digits[-1]=='0':\n",
    "            positive+=histogram[key]\n",
    "        \n",
    "    return positive\n",
    "\n",
    "\n",
    "def count_gates(circuit: qiskit.QuantumCircuit) -> Dict[int, int]:\n",
    "    \"\"\"Returns the number of gate operations with each number of qubits.\"\"\"\n",
    "    counter = Counter([len(gate[1]) for gate in circuit.data])\n",
    "    #feel free to comment out the following two lines. But make sure you don't have k-qubit gates in your circuit\n",
    "    #for k>2\n",
    "    #for i in range(2,20):\n",
    "    #    assert counter[i]==0\n",
    "        \n",
    "    return counter\n",
    "\n",
    "\n",
    "def image_mse(image1,image2):\n",
    "    # Using sklearns mean squared error:\n",
    "    # https://scikit-learn.org/stable/modules/generated/sklearn.metrics.mean_squared_error.html\n",
    "    return mean_squared_error(image1, image2)"
   ]
  },
  {
   "cell_type": "code",
   "execution_count": 120,
   "metadata": {},
   "outputs": [],
   "source": [
    "#load the mock data (for testing only)\n",
    "files=os.listdir(\"mock_data\")\n",
    "dataset=list()\n",
    "for file in files:\n",
    "    with open('mock_data/'+file, \"r\") as infile:\n",
    "        loaded = json.load(infile)\n",
    "        dataset.append(loaded)"
   ]
  },
  {
   "cell_type": "code",
   "execution_count": 121,
   "metadata": {},
   "outputs": [
    {
     "data": {
      "text/plain": [
       "<matplotlib.image.AxesImage at 0x7fd5329ed970>"
      ]
     },
     "execution_count": 121,
     "metadata": {},
     "output_type": "execute_result"
    },
    {
     "data": {
      "image/png": "[encoded data removed]",
      "text/plain": [
       "<Figure size 640x480 with 1 Axes>"
      ]
     },
     "metadata": {},
     "output_type": "display_data"
    }
   ],
   "source": [
    "#load the actual hackthon data (fashion-mnist)\n",
    "images=np.load('data/images.npy')\n",
    "labels=np.load('data/labels.npy')\n",
    "#you can visualize it\n",
    "plt.imshow(images[1])"
   ]
  },
  {
   "cell_type": "code",
   "execution_count": 122,
   "metadata": {},
   "outputs": [
    {
     "data": {
      "image/png": "[encoded data removed]",
      "text/plain": [
       "<Figure size 640x480 with 1 Axes>"
      ]
     },
     "metadata": {},
     "output_type": "display_data"
    }
   ],
   "source": [
    "images[1].shape\n",
    "#max pooling (28x28 -> 8x8)\n",
    "def max_pooling(image):\n",
    "    image=np.reshape(image,(28,28))\n",
    "    new_image=np.zeros((7,7))\n",
    "    for i in range(7):\n",
    "        for j in range(7):\n",
    "            new_image[i,j]=int(np.max(image[i*4:(i+1)*4,j*4:(j+1)*4])*10000)\n",
    "    return new_image\n",
    "\n",
    "plt.imshow(max_pooling(images[1]))\n",
    "#max depooling (8x8 -> 28x28)\n",
    "def max_depooling(image):\n",
    "    image=np.reshape(image,(7,7))\n",
    "    new_image=np.zeros((28,28))\n",
    "    for i in range(7):\n",
    "        for j in range(7):\n",
    "            new_image[i*4:(i+1)*4,j*4:(j+1)*4]=image[i,j]/10000\n",
    "    return new_image"
   ]
  },
  {
   "cell_type": "code",
   "execution_count": 123,
   "metadata": {},
   "outputs": [
    {
     "name": "stdout",
     "output_type": "stream",
     "text": [
      "2.4021936116419106e-06\n"
     ]
    },
    {
     "data": {
      "text/plain": [
       "<matplotlib.image.AxesImage at 0x7fd5217850a0>"
      ]
     },
     "execution_count": 123,
     "metadata": {},
     "output_type": "execute_result"
    },
    {
     "data": {
      "image/png": "[encoded data removed]",
      "text/plain": [
       "<Figure size 640x480 with 1 Axes>"
      ]
     },
     "metadata": {},
     "output_type": "display_data"
    }
   ],
   "source": [
    "print(image_mse(images[1],max_depooling(max_pooling(images[1]))))\n",
    "plt.imshow(max_depooling(max_pooling(images[1])))"
   ]
  },
  {
   "cell_type": "code",
   "execution_count": 124,
   "metadata": {},
   "outputs": [
    {
     "data": {
      "text/plain": [
       "True"
      ]
     },
     "execution_count": 124,
     "metadata": {},
     "output_type": "execute_result"
    }
   ],
   "source": [
    "labels[1]"
   ]
  },
  {
   "cell_type": "code",
   "execution_count": 125,
   "metadata": {},
   "outputs": [
    {
     "data": {
      "text/plain": [
       "array([[ 0.,  7., 25., 39., 27., 22.,  0.],\n",
       "       [ 0.,  0., 23., 26., 26.,  8.,  0.],\n",
       "       [ 0.,  0., 20., 19., 23.,  6.,  0.],\n",
       "       [ 0.,  0., 17., 18., 22., 13.,  0.],\n",
       "       [ 0.,  0., 17., 19., 22., 24.,  0.],\n",
       "       [ 0., 10., 19., 21., 21., 26.,  0.],\n",
       "       [ 0.,  9., 24., 22., 23., 32.,  0.]])"
      ]
     },
     "execution_count": 125,
     "metadata": {},
     "output_type": "execute_result"
    }
   ],
   "source": [
    "max_pooling(images[200])"
   ]
  },
  {
   "cell_type": "code",
   "execution_count": 176,
   "metadata": {},
   "outputs": [],
   "source": [
    "#submission to part 1, you should make this into a .py file\n",
    "from qiskit import QuantumCircuit, QuantumRegister, ClassicalRegister\n",
    "from qiskit.circuit.library.standard_gates import XGate\n",
    "from qiskit import transpile\n",
    "n=len(dataset)\n",
    "mse=0\n",
    "gatecount=0\n",
    "\n",
    "custom_gate = QuantumCircuit(1, name='custom_gate')\n",
    "custom_gate.x(0)\n",
    "custom_gate_gate = custom_gate.to_gate().control(6)\n",
    "\n",
    "# Functions 'encode' and 'decode' are dummy.\n",
    "def encode(image):\n",
    "    maxPooledImg=max_pooling(image)\n",
    "    idx = QuantumRegister(3, 'idx')\n",
    "    idy = QuantumRegister(3, 'idy')\n",
    "    # grayscale pixel intensity value\n",
    "    intensity = QuantumRegister(8,'intensity')\n",
    "    # classical register\n",
    "    cr = ClassicalRegister(14, 'cr')\n",
    "\n",
    "    # create the quantum circuit for the image\n",
    "    qc_image = QuantumCircuit(intensity, idx, idy, cr)\n",
    "\n",
    "    # set the total number of qubits\n",
    "    num_qubits = qc_image.num_qubits\n",
    "\n",
    "    # initialize the qubits\n",
    "    qc_image.h(range(8,14))\n",
    "    qc_image.barrier()\n",
    "    \n",
    "    for i in range(7):\n",
    "        for j in range(7):\n",
    "            for ix,v in enumerate(f'{int(i):b}'.zfill(3)[::-1]):\n",
    "                if v=='1':\n",
    "                    qc_image.x([ix+8])\n",
    "            for iy,v in enumerate(f'{int(j):b}'.zfill(3)[::-1]):\n",
    "                if v=='1':\n",
    "                    qc_image.x([iy+11])\n",
    "            sint=f'{int(maxPooledImg[i,j]):b}'.zfill(8)\n",
    "            #print(sint)\n",
    "            for idx, px_value in enumerate(sint[::-1]):\n",
    "                if px_value=='1':\n",
    "                    qc_image.append(custom_gate_gate,[8,9,10,11,12,13,idx])\n",
    "            for ix,v in enumerate(f'{int(i):b}'.zfill(3)[::-1]):\n",
    "                if v=='1':\n",
    "                    qc_image.x([ix+8])\n",
    "            for iy,v in enumerate(f'{int(j):b}'.zfill(3)[::-1]):\n",
    "                if v=='1':\n",
    "                    qc_image.x([iy+11])\n",
    "            qc_image.barrier()\n",
    "      \n",
    "    \n",
    "    qc_image.draw()\n",
    "    #transpile the circuit\n",
    "    #qc_image=transpile(qc_image,basis_gates=['cx','u1','u2','u3','id'])\n",
    "    return qc_image\n",
    "\n",
    "def decode(histogram):\n",
    "    # decode the histogram into an image where the keys are the qubit values\n",
    "    # the first 3 qubits are for the y coordinate\n",
    "    # the second 3 qubits are for the x coordinate\n",
    "    # the last 8 qubits are for the grayscale pixel intensity value\n",
    "    \n",
    "    print(histogram)\n",
    "    keys=histogram.keys()\n",
    "    img=np.zeros((7,7))\n",
    "    for i in keys:\n",
    "        si=f'{int(i):b}'.zfill(14)\n",
    "        print(si)\n",
    "        x=int(si[8:11],2) if int(si[8:11],2)<7 else 0\n",
    "        y=int(si[11:14],2) if int(si[11:14],2)<7 else 0\n",
    "        img[x,y]=int(si[0:8],2)\n",
    "        image=max_depooling(img)\n",
    "    return image\n",
    "\n",
    "def run_part1(image):\n",
    "    #encode image into a circuit\n",
    "    circuit=encode(image)\n",
    "\n",
    "    #simulate circuit\n",
    "    histogram=simulate(circuit)\n",
    "\n",
    "    #reconstruct the image\n",
    "    image_re=decode(histogram)\n",
    "\n",
    "    return circuit,image_re"
   ]
  },
  {
   "cell_type": "code",
   "execution_count": 172,
   "metadata": {},
   "outputs": [],
   "source": [
    "cic=encode(images[1])\n"
   ]
  },
  {
   "cell_type": "code",
   "execution_count": 165,
   "metadata": {},
   "outputs": [
    {
     "data": {
      "text/plain": [
       "20116"
      ]
     },
     "execution_count": 165,
     "metadata": {},
     "output_type": "execute_result"
    }
   ],
   "source": [
    "count_gates(cic)[2]"
   ]
  },
  {
   "cell_type": "code",
   "execution_count": 178,
   "metadata": {},
   "outputs": [
    {
     "name": "stdout",
     "output_type": "stream",
     "text": [
      "{0: 0.015625000000001242, 256: 0.015625000000001235, 512: 0.01562500000000122, 768: 0.015625000000001235, 1024: 0.015625000000001228, 1280: 0.015625000000001242, 1536: 0.015625000000001256, 1792: 0.01562500000000125, 2048: 0.01562500000000526, 2304: 0.0156250000000053, 2560: 0.01562500000000125, 2816: 0.015625000000001263, 3072: 0.01562500000000122, 3358: 0.01562500000000125, 3601: 0.015625000000001235, 3840: 0.015625000000001263, 4096: 0.015625000000001207, 4384: 0.015625000000005204, 4646: 0.01562500000000125, 4901: 0.015625000000005218, 5146: 0.015625000000001284, 5412: 0.015625000000001263, 5669: 0.015625000000001166, 5917: 0.01562500000000125, 6144: 0.01562500000000122, 6438: 0.015625000000001228, 6688: 0.015625000000001242, 6946: 0.01562500000000125, 7204: 0.015625000000001235, 7459: 0.015625000000001235, 7711: 0.015625000000001207, 7973: 0.01562500000000125, 8192: 0.01562500000000125, 8481: 0.01562500000000125, 8735: 0.015625000000005232, 8992: 0.015625000000001166, 9247: 0.015625000000001152, 9503: 0.0156250000000053, 9757: 0.015625000000001235, 10020: 0.015625000000001235, 10240: 0.015625000000001256, 10529: 0.015625000000001193, 10785: 0.015625000000005274, 11046: 0.015625000000001235, 11303: 0.015625000000005204, 11559: 0.015625000000001207, 11807: 0.015625000000005176, 12068: 0.015625000000001207, 12288: 0.015625000000001207, 12545: 0.01562500000000521, 12801: 0.015625000000005218, 13057: 0.015625000000005218, 13314: 0.01562500000000122, 13605: 0.015625000000005163, 13862: 0.01562500000000521, 14110: 0.01562500000000519, 14336: 0.015625000000005218, 14592: 0.01562500000000515, 14848: 0.015625000000005218, 15104: 0.015625000000005218, 15360: 0.015625000000005218, 15623: 0.015625000000005176, 15872: 0.01562500000000526, 16128: 0.01562500000000521}\n",
      "00000000000000\n",
      "00000100000000\n",
      "00001000000000\n",
      "00001100000000\n",
      "00010000000000\n",
      "00010100000000\n",
      "00011000000000\n",
      "00011100000000\n",
      "00100000000000\n",
      "00100100000000\n",
      "00101000000000\n",
      "00101100000000\n",
      "00110000000000\n",
      "00110100011110\n",
      "00111000010001\n",
      "00111100000000\n",
      "01000000000000\n",
      "01000100100000\n",
      "01001000100110\n",
      "01001100100101\n",
      "01010000011010\n",
      "01010100100100\n",
      "01011000100101\n",
      "01011100011101\n",
      "01100000000000\n",
      "01100100100110\n",
      "01101000100000\n",
      "01101100100010\n",
      "01110000100100\n",
      "01110100100011\n",
      "01111000011111\n",
      "01111100100101\n",
      "10000000000000\n",
      "10000100100001\n",
      "10001000011111\n",
      "10001100100000\n",
      "10010000011111\n",
      "10010100011111\n",
      "10011000011101\n",
      "10011100100100\n",
      "10100000000000\n",
      "10100100100001\n",
      "10101000100001\n",
      "10101100100110\n",
      "10110000100111\n",
      "10110100100111\n",
      "10111000011111\n",
      "10111100100100\n",
      "11000000000000\n",
      "11000100000001\n",
      "11001000000001\n",
      "11001100000001\n",
      "11010000000010\n",
      "11010100100101\n",
      "11011000100110\n",
      "11011100011110\n",
      "11100000000000\n",
      "11100100000000\n",
      "11101000000000\n",
      "11101100000000\n",
      "11110000000000\n",
      "11110100000111\n",
      "11111000000000\n",
      "11111100000000\n"
     ]
    },
    {
     "ename": "TypeError",
     "evalue": "Singleton array array(None, dtype=object) cannot be considered a valid collection.",
     "output_type": "error",
     "traceback": [
      "\u001b[0;31m---------------------------------------------------------------------------\u001b[0m",
      "\u001b[0;31mTypeError\u001b[0m                                 Traceback (most recent call last)",
      "Cell \u001b[0;32mIn[178], line 15\u001b[0m\n\u001b[1;32m     12\u001b[0m     gatecount\u001b[39m+\u001b[39m\u001b[39m=\u001b[39mcount_gates(circuit)[\u001b[39m2\u001b[39m]\n\u001b[1;32m     14\u001b[0m     \u001b[39m#calculate mse\u001b[39;00m\n\u001b[0;32m---> 15\u001b[0m     mse\u001b[39m+\u001b[39m\u001b[39m=\u001b[39mimage_mse(images[\u001b[39m1\u001b[39;49m],image_re)\n\u001b[1;32m     17\u001b[0m \u001b[39m#fidelity of reconstruction\u001b[39;00m\n\u001b[1;32m     18\u001b[0m f\u001b[39m=\u001b[39m\u001b[39m1\u001b[39m\u001b[39m-\u001b[39mmse\n",
      "Cell \u001b[0;32mIn[136], line 60\u001b[0m, in \u001b[0;36mimage_mse\u001b[0;34m(image1, image2)\u001b[0m\n\u001b[1;32m     57\u001b[0m \u001b[39mdef\u001b[39;00m \u001b[39mimage_mse\u001b[39m(image1,image2):\n\u001b[1;32m     58\u001b[0m     \u001b[39m# Using sklearns mean squared error:\u001b[39;00m\n\u001b[1;32m     59\u001b[0m     \u001b[39m# https://scikit-learn.org/stable/modules/generated/sklearn.metrics.mean_squared_error.html\u001b[39;00m\n\u001b[0;32m---> 60\u001b[0m     \u001b[39mreturn\u001b[39;00m mean_squared_error(image1, image2)\n",
      "File \u001b[0;32m~/opt/anaconda3/envs/Quantum/lib/python3.9/site-packages/sklearn/metrics/_regression.py:442\u001b[0m, in \u001b[0;36mmean_squared_error\u001b[0;34m(y_true, y_pred, sample_weight, multioutput, squared)\u001b[0m\n\u001b[1;32m    382\u001b[0m \u001b[39mdef\u001b[39;00m \u001b[39mmean_squared_error\u001b[39m(\n\u001b[1;32m    383\u001b[0m     y_true, y_pred, \u001b[39m*\u001b[39m, sample_weight\u001b[39m=\u001b[39m\u001b[39mNone\u001b[39;00m, multioutput\u001b[39m=\u001b[39m\u001b[39m\"\u001b[39m\u001b[39muniform_average\u001b[39m\u001b[39m\"\u001b[39m, squared\u001b[39m=\u001b[39m\u001b[39mTrue\u001b[39;00m\n\u001b[1;32m    384\u001b[0m ):\n\u001b[1;32m    385\u001b[0m     \u001b[39m\"\"\"Mean squared error regression loss.\u001b[39;00m\n\u001b[1;32m    386\u001b[0m \n\u001b[1;32m    387\u001b[0m \u001b[39m    Read more in the :ref:`User Guide <mean_squared_error>`.\u001b[39;00m\n\u001b[0;32m   (...)\u001b[0m\n\u001b[1;32m    440\u001b[0m \u001b[39m    0.825...\u001b[39;00m\n\u001b[1;32m    441\u001b[0m \u001b[39m    \"\"\"\u001b[39;00m\n\u001b[0;32m--> 442\u001b[0m     y_type, y_true, y_pred, multioutput \u001b[39m=\u001b[39m _check_reg_targets(\n\u001b[1;32m    443\u001b[0m         y_true, y_pred, multioutput\n\u001b[1;32m    444\u001b[0m     )\n\u001b[1;32m    445\u001b[0m     check_consistent_length(y_true, y_pred, sample_weight)\n\u001b[1;32m    446\u001b[0m     output_errors \u001b[39m=\u001b[39m np\u001b[39m.\u001b[39maverage((y_true \u001b[39m-\u001b[39m y_pred) \u001b[39m*\u001b[39m\u001b[39m*\u001b[39m \u001b[39m2\u001b[39m, axis\u001b[39m=\u001b[39m\u001b[39m0\u001b[39m, weights\u001b[39m=\u001b[39msample_weight)\n",
      "File \u001b[0;32m~/opt/anaconda3/envs/Quantum/lib/python3.9/site-packages/sklearn/metrics/_regression.py:102\u001b[0m, in \u001b[0;36m_check_reg_targets\u001b[0;34m(y_true, y_pred, multioutput, dtype)\u001b[0m\n\u001b[1;32m    100\u001b[0m check_consistent_length(y_true, y_pred)\n\u001b[1;32m    101\u001b[0m y_true \u001b[39m=\u001b[39m check_array(y_true, ensure_2d\u001b[39m=\u001b[39m\u001b[39mFalse\u001b[39;00m, dtype\u001b[39m=\u001b[39mdtype)\n\u001b[0;32m--> 102\u001b[0m y_pred \u001b[39m=\u001b[39m check_array(y_pred, ensure_2d\u001b[39m=\u001b[39;49m\u001b[39mFalse\u001b[39;49;00m, dtype\u001b[39m=\u001b[39;49mdtype)\n\u001b[1;32m    104\u001b[0m \u001b[39mif\u001b[39;00m y_true\u001b[39m.\u001b[39mndim \u001b[39m==\u001b[39m \u001b[39m1\u001b[39m:\n\u001b[1;32m    105\u001b[0m     y_true \u001b[39m=\u001b[39m y_true\u001b[39m.\u001b[39mreshape((\u001b[39m-\u001b[39m\u001b[39m1\u001b[39m, \u001b[39m1\u001b[39m))\n",
      "File \u001b[0;32m~/opt/anaconda3/envs/Quantum/lib/python3.9/site-packages/sklearn/utils/validation.py:929\u001b[0m, in \u001b[0;36mcheck_array\u001b[0;34m(array, accept_sparse, accept_large_sparse, dtype, order, copy, force_all_finite, ensure_2d, allow_nd, ensure_min_samples, ensure_min_features, estimator, input_name)\u001b[0m\n\u001b[1;32m    921\u001b[0m         _assert_all_finite(\n\u001b[1;32m    922\u001b[0m             array,\n\u001b[1;32m    923\u001b[0m             input_name\u001b[39m=\u001b[39minput_name,\n\u001b[1;32m    924\u001b[0m             estimator_name\u001b[39m=\u001b[39mestimator_name,\n\u001b[1;32m    925\u001b[0m             allow_nan\u001b[39m=\u001b[39mforce_all_finite \u001b[39m==\u001b[39m \u001b[39m\"\u001b[39m\u001b[39mallow-nan\u001b[39m\u001b[39m\"\u001b[39m,\n\u001b[1;32m    926\u001b[0m         )\n\u001b[1;32m    928\u001b[0m \u001b[39mif\u001b[39;00m ensure_min_samples \u001b[39m>\u001b[39m \u001b[39m0\u001b[39m:\n\u001b[0;32m--> 929\u001b[0m     n_samples \u001b[39m=\u001b[39m _num_samples(array)\n\u001b[1;32m    930\u001b[0m     \u001b[39mif\u001b[39;00m n_samples \u001b[39m<\u001b[39m ensure_min_samples:\n\u001b[1;32m    931\u001b[0m         \u001b[39mraise\u001b[39;00m \u001b[39mValueError\u001b[39;00m(\n\u001b[1;32m    932\u001b[0m             \u001b[39m\"\u001b[39m\u001b[39mFound array with \u001b[39m\u001b[39m%d\u001b[39;00m\u001b[39m sample(s) (shape=\u001b[39m\u001b[39m%s\u001b[39;00m\u001b[39m) while a\u001b[39m\u001b[39m\"\u001b[39m\n\u001b[1;32m    933\u001b[0m             \u001b[39m\"\u001b[39m\u001b[39m minimum of \u001b[39m\u001b[39m%d\u001b[39;00m\u001b[39m is required\u001b[39m\u001b[39m%s\u001b[39;00m\u001b[39m.\u001b[39m\u001b[39m\"\u001b[39m\n\u001b[1;32m    934\u001b[0m             \u001b[39m%\u001b[39m (n_samples, array\u001b[39m.\u001b[39mshape, ensure_min_samples, context)\n\u001b[1;32m    935\u001b[0m         )\n",
      "File \u001b[0;32m~/opt/anaconda3/envs/Quantum/lib/python3.9/site-packages/sklearn/utils/validation.py:335\u001b[0m, in \u001b[0;36m_num_samples\u001b[0;34m(x)\u001b[0m\n\u001b[1;32m    333\u001b[0m \u001b[39mif\u001b[39;00m \u001b[39mhasattr\u001b[39m(x, \u001b[39m\"\u001b[39m\u001b[39mshape\u001b[39m\u001b[39m\"\u001b[39m) \u001b[39mand\u001b[39;00m x\u001b[39m.\u001b[39mshape \u001b[39mis\u001b[39;00m \u001b[39mnot\u001b[39;00m \u001b[39mNone\u001b[39;00m:\n\u001b[1;32m    334\u001b[0m     \u001b[39mif\u001b[39;00m \u001b[39mlen\u001b[39m(x\u001b[39m.\u001b[39mshape) \u001b[39m==\u001b[39m \u001b[39m0\u001b[39m:\n\u001b[0;32m--> 335\u001b[0m         \u001b[39mraise\u001b[39;00m \u001b[39mTypeError\u001b[39;00m(\n\u001b[1;32m    336\u001b[0m             \u001b[39m\"\u001b[39m\u001b[39mSingleton array \u001b[39m\u001b[39m%r\u001b[39;00m\u001b[39m cannot be considered a valid collection.\u001b[39m\u001b[39m\"\u001b[39m \u001b[39m%\u001b[39m x\n\u001b[1;32m    337\u001b[0m         )\n\u001b[1;32m    338\u001b[0m     \u001b[39m# Check that shape is returning an integer or default to len\u001b[39;00m\n\u001b[1;32m    339\u001b[0m     \u001b[39m# Dask dataframes may not return numeric shape[0] value\u001b[39;00m\n\u001b[1;32m    340\u001b[0m     \u001b[39mif\u001b[39;00m \u001b[39misinstance\u001b[39m(x\u001b[39m.\u001b[39mshape[\u001b[39m0\u001b[39m], numbers\u001b[39m.\u001b[39mIntegral):\n",
      "\u001b[0;31mTypeError\u001b[0m: Singleton array array(None, dtype=object) cannot be considered a valid collection."
     ]
    }
   ],
   "source": [
    "#how we grade your submission\n",
    "\n",
    "n=len(dataset)\n",
    "mse=0\n",
    "gatecount=0\n",
    "\n",
    "for data in dataset:\n",
    "    #encode image into circuit\n",
    "    circuit,image_re=run_part1(images[1])\n",
    "    \n",
    "    #count the number of 2qubit gates used\n",
    "    gatecount+=count_gates(circuit)[2]\n",
    "    \n",
    "    #calculate mse\n",
    "    mse+=image_mse(images[1],image_re)\n",
    "    \n",
    "#fidelity of reconstruction\n",
    "f=1-mse\n",
    "gatecount=gatecount/n\n",
    "\n",
    "#score for part1 \n",
    "print(f*(0.999**gatecount))"
   ]
  },
  {
   "cell_type": "code",
   "execution_count": 156,
   "metadata": {},
   "outputs": [
    {
     "data": {
      "text/plain": [
       "[[0, 0], [0, 0]]"
      ]
     },
     "execution_count": 156,
     "metadata": {},
     "output_type": "execute_result"
    }
   ],
   "source": [
    "data['image']"
   ]
  },
  {
   "cell_type": "code",
   "execution_count": null,
   "metadata": {},
   "outputs": [],
   "source": []
  }
 ],
 "metadata": {
  "kernelspec": {
   "display_name": "Quantum",
   "language": "python",
   "name": "python3"
  },
  "language_info": {
   "codemirror_mode": {
    "name": "ipython",
    "version": 3
   },
   "file_extension": ".py",
   "mimetype": "text/x-python",
   "name": "python",
   "nbconvert_exporter": "python",
   "pygments_lexer": "ipython3",
   "version": "3.9.16"
  },
  "orig_nbformat": 4,
  "vscode": {
   "interpreter": {
    "hash": "3386639732fab8d0dde003e73e96f74553c737e45bfa94d08454eb4f49bbbf50"
   }
  }
 },
 "nbformat": 4,
 "nbformat_minor": 2
}
